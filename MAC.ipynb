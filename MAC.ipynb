{
 "metadata": {
  "language_info": {
   "codemirror_mode": {
    "name": "ipython",
    "version": 3
   },
   "file_extension": ".py",
   "mimetype": "text/x-python",
   "name": "python",
   "nbconvert_exporter": "python",
   "pygments_lexer": "ipython3",
   "version": "3.8.5-final"
  },
  "orig_nbformat": 2,
  "kernelspec": {
   "name": "python3",
   "display_name": "Python 3.8.5 64-bit ('GenProject': conda)",
   "metadata": {
    "interpreter": {
     "hash": "e0dd63cfdb0b6cf05a67a4a304526e991ef183df6784972bf91717c43ebb6294"
    }
   }
  }
 },
 "nbformat": 4,
 "nbformat_minor": 2,
 "cells": [
  {
   "cell_type": "code",
   "execution_count": 2,
   "metadata": {},
   "outputs": [],
   "source": [
    "import numpy as np\n",
    "import matplotlib.pyplot as plt\n",
    "import matplotlib.cm as cm\n",
    "from mpl_toolkits import mplot3d\n",
    "from tqdm import tqdm"
   ]
  },
  {
   "cell_type": "code",
   "execution_count": 3,
   "metadata": {},
   "outputs": [],
   "source": [
    "# Initial Conditions and Variables\n",
    "nx  = 64\n",
    "ny  = 64\n",
    "nz  = 64\n",
    "nt  = 10\n",
    "nit = 10\n",
    "\n",
    "vis = 0.1\n",
    "rho = 1.0\n",
    "Lx  = 2\n",
    "Ly  = 2\n",
    "Lz  = 2\n",
    "dx  = Lx/(nx-1)\n",
    "dy  = Ly/(ny-1)\n",
    "dz  = Lz/(nz-1)\n",
    "dt  = 0.001\n",
    "i_dt = 1/dt\n",
    "i_dx = 1/dx\n",
    "i_dy = 1/dy\n",
    "i_dz = 1/dz\n",
    "x   = np.arange(0,Lx,dx)\n",
    "y   = np.arange(0,Ly,dy)\n",
    "z   = np.arange(0,Lz,dz)\n",
    "u   = np.zeros((nz,ny,nx))#, dtype = np.float32 )\n",
    "v   = np.zeros((nz,ny,nx))#, dtype = np.float32 )\n",
    "w   = np.zeros((nz,ny,nx))#, dtype = np.float32 )\n",
    "p   = np.zeros((nz,ny,nx))#, dtype = np.float32 )\n",
    "un   = np.zeros((nz,ny,nx))#, dtype = np.float32 )\n",
    "vn   = np.zeros((nz,ny,nx))#, dtype = np.float32 )\n",
    "wn   = np.zeros((nz,ny,nx))#, dtype = np.float32 )\n",
    "pn   = np.zeros((nz,ny,nx))#, dtype = np.float32 )\n",
    "\n",
    "#b    = np.zeros((nz,ny,nx))#, dtype = np.float32 )\n",
    "#uT   = np.zeros((nz,ny,nx,nt))#, dtype = np.float32 )\n",
    "#vT   = np.zeros((nz,ny,nx,nt))#, dtype = np.float32 )\n",
    "#wT   = np.zeros((nz,ny,nx,nt))#, dtype = np.float32 )\n",
    "#pT   = np.zeros((nz,ny,nx,nt))#, dtype = np.float32 )"
   ]
  },
  {
   "cell_type": "code",
   "execution_count": 4,
   "metadata": {},
   "outputs": [],
   "source": [
    "def get_E_1(uij,ui1j,Re):\n",
    "    # E1 = u^2 - del_u_del_x / Re\n",
    "    \n",
    "    E1 = 0.25*(uij+ui1j)**2 - (ui1j-uij)/(Re*dx)\n",
    "    return E1 "
   ]
  },
  {
   "cell_type": "code",
   "execution_count": 5,
   "metadata": {},
   "outputs": [],
   "source": [
    "def get_F_1(uij,uij1,vij,vi1j,Re):\n",
    "    # F1 = uv - del_u_del_y / Re\n",
    "\n",
    "    F1 = 0.25*(vij+vi1j)*(uij+uij1) - (uij1-uij)/(Re*dy)\n",
    "    return F1"
   ]
  },
  {
   "cell_type": "code",
   "execution_count": 6,
   "metadata": {},
   "outputs": [],
   "source": [
    "def get_E_2(uij,uij1,vij,vi1j,Re):\n",
    "    # E2 = uv - del_v_del_x / Re\n",
    "    \n",
    "    E2 = 0.25*(uij+uij1)*(vij+vi1j) - (vi1j-vij)/(Re*dx)\n",
    "    return E2 "
   ]
  },
  {
   "cell_type": "code",
   "execution_count": 7,
   "metadata": {},
   "outputs": [],
   "source": [
    "def get_F_2(vij,vij1,Re):\n",
    "    # F2 = v^2 - del_v_del_y / Re\n",
    "    \n",
    "    F2 = 0.25*(vij+vij1)**2 - (vij1-vij)/(Re*dy)\n",
    "    return F2 "
   ]
  },
  {
   "cell_type": "code",
   "execution_count": null,
   "metadata": {},
   "outputs": [],
   "source": [
    "def TDMA(A,b,x):\n"
   ]
  }
 ]
}